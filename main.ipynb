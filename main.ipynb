{
 "cells": [
  {
   "cell_type": "code",
   "execution_count": 3,
   "id": "617c8e64",
   "metadata": {},
   "outputs": [],
   "source": [
    "from datasets import load_dataset\n",
    "import pandas as pd\n",
    "import re\n",
    "import contractions\n",
    "from huggingface_hub import list_datasets"
   ]
  },
  {
   "cell_type": "code",
   "execution_count": 5,
   "id": "7cc7447f",
   "metadata": {},
   "outputs": [],
   "source": [
    "dt = load_dataset('stanfordnlp/sentiment140', trust_remote_code=True)"
   ]
  },
  {
   "cell_type": "code",
   "execution_count": 7,
   "id": "57b6e6a7",
   "metadata": {},
   "outputs": [],
   "source": [
    "df_test = pd.DataFrame(dt['test'])\n",
    "df_test['text'] = df_test['text'].apply(lambda x: x.lower()) # lowercase everything\n",
    "df_test['text'] = df_test['text'].apply(lambda x: re.sub(r'http\\S+', '', x)) # remove links\n",
    "df_test['text'] = df_test['text'].apply(lambda x: re.sub(r'@\\S+', '', x)) # remove user references\n",
    "df_test['text'] = df_test['text'].apply(lambda x: contractions.fix(x)) # remove contractions\n",
    "df_test['text'] = df_test['text'].apply(lambda x: re.sub(r\"[,.`\\\"'-]\",'', x)) # remove some punctuation"
   ]
  },
  {
   "cell_type": "code",
   "execution_count": null,
   "id": "1fd169b2",
   "metadata": {},
   "outputs": [],
   "source": [
    "df_test"
   ]
  }
 ],
 "metadata": {
  "kernelspec": {
   "display_name": "myenv",
   "language": "python",
   "name": "python3"
  },
  "language_info": {
   "codemirror_mode": {
    "name": "ipython",
    "version": 3
   },
   "file_extension": ".py",
   "mimetype": "text/x-python",
   "name": "python",
   "nbconvert_exporter": "python",
   "pygments_lexer": "ipython3",
   "version": "3.11.12"
  }
 },
 "nbformat": 4,
 "nbformat_minor": 5
}
