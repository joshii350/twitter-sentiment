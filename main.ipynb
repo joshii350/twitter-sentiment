{
 "cells": [
  {
   "cell_type": "code",
   "execution_count": 34,
   "id": "617c8e64",
   "metadata": {},
   "outputs": [],
   "source": [
    "from datasets import load_dataset\n",
    "import pandas as pd\n",
    "import re\n",
    "import html\n",
    "import contractions\n",
    "import emoji\n",
    "import nltk\n",
    "from nltk.corpus import stopwords\n",
    "from nltk.stem import PorterStemmer\n",
    "from sklearn.feature_extraction.text import TfidfVectorizer \n",
    "from huggingface_hub import list_datasets"
   ]
  },
  {
   "cell_type": "code",
   "execution_count": 35,
   "id": "43fff3e1",
   "metadata": {},
   "outputs": [],
   "source": [
    "emoticon_map = {\n",
    "    \":)\": \"😊\",\n",
    "    \"=)\": \"😊\",\n",
    "    \":]\": \"😊\",\n",
    "    \":(\": \"😞\",\n",
    "    \"=(\": \"😞\",\n",
    "    \";)\": \"😉\",\n",
    "    \":D\": \"😁\",\n",
    "    \":P\": \"😜\",\n",
    "    \"=d\": \"😜\",\n",
    "    \"<3\": \"❤️\"\n",
    "}"
   ]
  },
  {
   "cell_type": "code",
   "execution_count": 36,
   "id": "9a09ea61",
   "metadata": {},
   "outputs": [
    {
     "name": "stderr",
     "output_type": "stream",
     "text": [
      "[nltk_data] Downloading package stopwords to /home/joshua/nltk_data...\n",
      "[nltk_data]   Package stopwords is already up-to-date!\n"
     ]
    }
   ],
   "source": [
    "dt = load_dataset('stanfordnlp/sentiment140', trust_remote_code=True)\n",
    "nltk.download('stopwords')\n",
    "stop_words = set(stopwords.words('english'))\n",
    "ps = PorterStemmer()"
   ]
  },
  {
   "cell_type": "code",
   "execution_count": 37,
   "id": "33b7845b",
   "metadata": {},
   "outputs": [],
   "source": [
    "def replace_emoticons(text):\n",
    "    for emote_text, emote in emoticon_map.items():\n",
    "        text = text.replace(emote_text, emote)\n",
    "    return text"
   ]
  },
  {
   "cell_type": "code",
   "execution_count": null,
   "id": "a39aa220",
   "metadata": {},
   "outputs": [],
   "source": [
    "def preprocess(text):\n",
    "    text =  html.unescape(text)                                                     # decode html emojis\n",
    "    text = replace_emoticons(text)                                                  # convert html emojis into actual emojis\n",
    "    text = emoji.demojize(text, language=\"en\")                                      # convert emojis into words\n",
    "    text = text.lower()                                                             # lower case all words\n",
    "    text = contractions.fix(text)                                                   # de-contract words\n",
    "    text = re.sub(r'http\\S+', '', text)                                             # remove links\n",
    "    text = re.sub(r'@\\S+', '', text)                                                # remove usernames\n",
    "    text = re.sub(r\"[,.@`\\\"'-]\",'', text)                                           # remove punctuation\n",
    "    text = text.strip()                                                             # remove surrounding whitespace if any\n",
    "    tokens = text.split()                                                           # tokenize\n",
    "    tokens = [word for word in tokens if word not in stop_words]                    # remove stopwords\n",
    "    tokens = [ps.stem(word) for word in tokens]                                     # stem words\n",
    "    return ' '.join(tokens)"
   ]
  },
  {
   "cell_type": "code",
   "execution_count": null,
   "id": "7cc7447f",
   "metadata": {},
   "outputs": [],
   "source": [
    "df_train = pd.DataFrame(dt['train'])#.sample(n=10000, random_state=42).reset_index(drop=True)\n",
    "df_test = pd.DataFrame(dt['test'])\n",
    "df_test = df_test[df_test['sentiment'] != 2]\n",
    "df_train['text'] = df_train['text'].apply(preprocess)\n",
    "df_test['text'] = df_test['text'].apply(preprocess)\n",
    "df_train['sentiment'] = df_train['sentiment'].map({0: 0, 4: 1})\n",
    "df_test['sentiment'] = df_test['sentiment'].map({0: 0, 4: 1})"
   ]
  },
  {
   "cell_type": "code",
   "execution_count": 42,
   "id": "4b3a3f15",
   "metadata": {},
   "outputs": [],
   "source": [
    "cv = TfidfVectorizer()\n",
    "X_train = cv.fit_transform(df_train['text'])\n",
    "X_test = cv.transform(df_test['text'])\n",
    "y_train = df_train['sentiment'].values\n",
    "y_test = df_test['sentiment'].values"
   ]
  },
  {
   "cell_type": "code",
   "execution_count": 45,
   "id": "93c31df9",
   "metadata": {},
   "outputs": [],
   "source": [
    "from sklearn.linear_model import LogisticRegression\n",
    "lr = LogisticRegression(max_iter=2000)\n",
    "lr.fit(X_train, y_train)\n",
    "y_pred = lr.predict(X_test)"
   ]
  },
  {
   "cell_type": "code",
   "execution_count": 46,
   "id": "21bd141c",
   "metadata": {},
   "outputs": [
    {
     "name": "stdout",
     "output_type": "stream",
     "text": [
      "0.8022284122562674\n"
     ]
    }
   ],
   "source": [
    "from sklearn.metrics import confusion_matrix, accuracy_score\n",
    "cm = confusion_matrix(y_test, y_pred)\n",
    "print(accuracy_score(y_test, y_pred))"
   ]
  }
 ],
 "metadata": {
  "kernelspec": {
   "display_name": "myenv",
   "language": "python",
   "name": "python3"
  },
  "language_info": {
   "codemirror_mode": {
    "name": "ipython",
    "version": 3
   },
   "file_extension": ".py",
   "mimetype": "text/x-python",
   "name": "python",
   "nbconvert_exporter": "python",
   "pygments_lexer": "ipython3",
   "version": "3.11.12"
  }
 },
 "nbformat": 4,
 "nbformat_minor": 5
}
