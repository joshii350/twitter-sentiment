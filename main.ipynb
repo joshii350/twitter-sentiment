{
 "cells": [
  {
   "cell_type": "code",
   "execution_count": 37,
   "id": "617c8e64",
   "metadata": {},
   "outputs": [],
   "source": [
    "from datasets import load_dataset\n",
    "import pandas as pd\n",
    "import re\n",
    "import html\n",
    "import contractions\n",
    "import emoji\n",
    "import nltk\n",
    "from nltk.corpus import stopwords\n",
    "from huggingface_hub import list_datasets"
   ]
  },
  {
   "cell_type": "code",
   "execution_count": 38,
   "id": "43fff3e1",
   "metadata": {},
   "outputs": [],
   "source": [
    "emoticon_map = {\n",
    "    \":)\": \"😊\",\n",
    "    \"=)\": \"😊\",\n",
    "    \":]\": \"😊\",\n",
    "    \":(\": \"😞\",\n",
    "    \"=(\": \"😞\",\n",
    "    \";)\": \"😉\",\n",
    "    \":D\": \"😁\",\n",
    "    \":P\": \"😜\",\n",
    "    \"=d\": \"😜\",\n",
    "    \"<3\": \"❤️\"\n",
    "}"
   ]
  },
  {
   "cell_type": "code",
   "execution_count": 39,
   "id": "9a09ea61",
   "metadata": {},
   "outputs": [
    {
     "name": "stderr",
     "output_type": "stream",
     "text": [
      "[nltk_data] Downloading package stopwords to /home/joshua/nltk_data...\n",
      "[nltk_data]   Package stopwords is already up-to-date!\n"
     ]
    },
    {
     "data": {
      "text/plain": [
       "True"
      ]
     },
     "execution_count": 39,
     "metadata": {},
     "output_type": "execute_result"
    }
   ],
   "source": [
    "nltk.download('stopwords')"
   ]
  },
  {
   "cell_type": "code",
   "execution_count": 40,
   "id": "33b7845b",
   "metadata": {},
   "outputs": [],
   "source": [
    "def replace_emoticons(text):\n",
    "    for emote_text, emote in emoticon_map.items():\n",
    "        text = text.replace(emote_text, emote)\n",
    "    return text"
   ]
  },
  {
   "cell_type": "code",
   "execution_count": null,
   "id": "a39aa220",
   "metadata": {},
   "outputs": [],
   "source": [
    "def preprocess(text):\n",
    "    text =  html.unescape(text)                                                     # decode html emojis\n",
    "    text = replace_emoticons(text)                                                  # convert html emojis into actual emojis\n",
    "    text = emoji.demojize(text, language=\"en\")                                      # convert emojis into words\n",
    "    text = text.lower()                                                             # lower case all words\n",
    "    text = contractions.fix(text)                                                   # de-contract words\n",
    "    text = re.sub(r'http\\S+', '', text)                                             # remove links\n",
    "    text = re.sub(r'@\\S+', '', text)                                                # remove usernames\n",
    "    text = re.sub(r\"[,.`\\\"'-]\",'', text)                                            # remove punctuation\n",
    "    text = text.strip()                                                             # remove surrounding whitespace if any\n",
    "    tokens = text.split()                                                           # tokenize\n",
    "    tokens = [word for word in tokens if word not in stopwords.words('english')]    # remove stopwords\n",
    "    return tokens"
   ]
  },
  {
   "cell_type": "code",
   "execution_count": 42,
   "id": "7cc7447f",
   "metadata": {},
   "outputs": [],
   "source": [
    "dt = load_dataset('stanfordnlp/sentiment140', trust_remote_code=True)"
   ]
  },
  {
   "cell_type": "code",
   "execution_count": 43,
   "id": "57b6e6a7",
   "metadata": {},
   "outputs": [],
   "source": [
    "df_test = pd.DataFrame(dt['test'])\n",
    "df_test['text'] = df_test['text'].apply(preprocess)"
   ]
  },
  {
   "cell_type": "code",
   "execution_count": 44,
   "id": "21bd141c",
   "metadata": {},
   "outputs": [
    {
     "data": {
      "application/vnd.microsoft.datawrangler.viewer.v0+json": {
       "columns": [
        {
         "name": "index",
         "rawType": "int64",
         "type": "integer"
        },
        {
         "name": "text",
         "rawType": "object",
         "type": "unknown"
        },
        {
         "name": "date",
         "rawType": "object",
         "type": "string"
        },
        {
         "name": "user",
         "rawType": "object",
         "type": "string"
        },
        {
         "name": "sentiment",
         "rawType": "int64",
         "type": "integer"
        },
        {
         "name": "query",
         "rawType": "object",
         "type": "string"
        }
       ],
       "conversionMethod": "pd.DataFrame",
       "ref": "ef88293a-dcd1-4cec-a09b-539bb431351c",
       "rows": [
        [
         "0",
         "['loooooooovvvvvveee', 'kindle2', 'dx', 'cool', '2', 'fantastic', 'right']",
         "Mon May 11 03:17:40 UTC 2009",
         "tpryan",
         "4",
         "kindle2"
        ],
        [
         "1",
         "['reading', 'kindle2', 'love', 'lee', 'childs', 'good', 'read']",
         "Mon May 11 03:18:03 UTC 2009",
         "vcu451",
         "4",
         "kindle2"
        ],
        [
         "2",
         "['ok', 'first', 'assesment', '#kindle2', 'fucking', 'rocks!!!']",
         "Mon May 11 03:18:54 UTC 2009",
         "chadfu",
         "4",
         "kindle2"
        ],
        [
         "3",
         "['love', 'kindle2', 'mine', 'months', 'never', 'looked', 'back', 'new', 'big', 'one', 'huge!', 'need', 'remorse!', ':smiling_face_with_smiling_eyes:']",
         "Mon May 11 03:19:04 UTC 2009",
         "SIX15",
         "4",
         "kindle2"
        ],
        [
         "4",
         "['fair', 'enough', 'kindle2', 'think', 'perfect', ':smiling_face_with_smiling_eyes:']",
         "Mon May 11 03:21:41 UTC 2009",
         "yamarama",
         "4",
         "kindle2"
        ],
        [
         "5",
         "['big', 'quite', 'happy', 'kindle2']",
         "Mon May 11 03:22:00 UTC 2009",
         "GeorgeVHulme",
         "4",
         "kindle2"
        ],
        [
         "6",
         "['fuck', 'economy', 'hate', 'aig', 'non', 'loan', 'given', 'asses']",
         "Mon May 11 03:22:30 UTC 2009",
         "Seth937",
         "0",
         "aig"
        ],
        [
         "7",
         "['jquery', 'new', 'best', 'friend']",
         "Mon May 11 03:26:10 UTC 2009",
         "dcostalis",
         "4",
         "jquery"
        ],
        [
         "8",
         "['loves', 'twitter']",
         "Mon May 11 03:27:15 UTC 2009",
         "PJ_King",
         "4",
         "twitter"
        ],
        [
         "9",
         "['love', 'obama?', 'makes', 'jokes']",
         "Mon May 11 03:29:20 UTC 2009",
         "mandanicole",
         "4",
         "obama"
        ],
        [
         "10",
         "['check', 'video', 'president', 'obama', 'white', 'house', 'correspondents', 'dinner']",
         "Mon May 11 03:32:42 UTC 2009",
         "jpeb",
         "2",
         "obama"
        ],
        [
         "11",
         "['firmly', 'believe', 'obama/pelosi', 'zero', 'desire', 'civil', 'charade', 'slogan', 'want', 'destroy', 'conservatism']",
         "Mon May 11 03:32:48 UTC 2009",
         "kylesellers",
         "0",
         "obama"
        ],
        [
         "12",
         "['house', 'correspondents', 'dinner', 'last', 'night', 'whoopi', 'barbara', '&', 'sherri', 'went', 'obama', 'got', 'standing', 'ovation']",
         "Mon May 11 03:33:38 UTC 2009",
         "theviewfans",
         "4",
         "obama"
        ],
        [
         "13",
         "['watchin', 'espnjus', 'seen', 'new', 'nike', 'commerical', 'puppet', 'lebronsh*t', 'hilariouslmao!!!']",
         "Mon May 11 05:05:58 UTC 2009",
         "MumsFP",
         "4",
         "nike"
        ],
        [
         "14",
         "['dear', 'nike', 'stop', 'flywire', 'shit', 'waste', 'science', 'ugly', 'love']",
         "Mon May 11 05:06:22 UTC 2009",
         "vincentx24x",
         "0",
         "nike"
        ],
        [
         "15",
         "['#lebron', 'best', 'athlete', 'generation', 'time', '(basketball', 'related)', 'want', 'get', 'intersport', 'debates', '__1/2']",
         "Mon May 11 05:20:15 UTC 2009",
         "cameronwylie",
         "4",
         "lebron"
        ],
        [
         "16",
         "['talking', 'guy', 'last', 'night', 'telling', 'die', 'hard', 'spurs', 'fan', 'also', 'told', 'hates', 'lebron', 'james']",
         "Mon May 11 05:20:28 UTC 2009",
         "luv8242",
         "0",
         "lebron"
        ],
        [
         "17",
         "['love', 'lebron']",
         "Mon May 11 05:21:04 UTC 2009",
         "mtgillikin",
         "4",
         "lebron"
        ],
        [
         "18",
         "['lebron', 'beast', 'still', 'cheering', '4', 'atil', 'end']",
         "Mon May 11 05:21:37 UTC 2009",
         "ursecretdezire",
         "0",
         "lebron"
        ],
        [
         "19",
         "['lebron', 'boss']",
         "Mon May 11 05:21:45 UTC 2009",
         "Native_01",
         "4",
         "lebron"
        ],
        [
         "20",
         "['lebron', 'hometown', 'hero', 'lol', 'love', 'lakers', 'let', 'us', 'go', 'cavs', 'lol']",
         "Mon May 11 05:22:03 UTC 2009",
         "princezzcutz",
         "4",
         "lebron"
        ],
        [
         "21",
         "['lebron', 'zydrunas', 'awesome', 'duo']",
         "Mon May 11 05:22:12 UTC 2009",
         "peterlikewhat",
         "4",
         "lebron"
        ],
        [
         "22",
         "['lebron', 'beast', 'nobody', 'nba', 'comes', 'even', 'close']",
         "Mon May 11 05:22:37 UTC 2009",
         "emceet",
         "4",
         "lebron"
        ],
        [
         "23",
         "['downloading', 'apps', 'iphone!', 'much', 'fun', ':)', 'literally', 'app', 'anything']",
         "Mon May 11 06:02:24 UTC 2009",
         "CocoSavanna",
         "4",
         "iphone app"
        ],
        [
         "24",
         "['good', 'news', 'call', 'visa', 'office', 'saying', 'everything', 'finewhat', 'relief!', 'sick', 'scams', 'there!', 'stealing!']",
         "Mon May 11 19:47:29 UTC 2009",
         "DreambigRadio",
         "4",
         "visa"
        ],
        [
         "25",
         "['awesome', 'come', 'back', '(via']",
         "Mon May 11 19:49:21 UTC 2009",
         "andrewwatson",
         "4",
         "fredwilson"
        ],
        [
         "26",
         "['montreal', 'long', 'weekend', 'r&r', 'much', 'needed']",
         "Mon May 11 19:50:07 UTC 2009",
         "fredwilson",
         "4",
         "fredwilson"
        ],
        [
         "27",
         "['booz', 'allen', 'hamilton', 'bad', 'ass', 'homegrown', 'social', 'collaboration', 'platform', 'way', 'cool!', '#ttiv']",
         "Thu May 14 02:58:07 UTC 2009",
         "JoeSchueller",
         "4",
         "\"booz allen\""
        ],
        [
         "28",
         "['[#mluc09]', 'customer', 'innovation', 'award', 'winner:', 'booz', 'allen', 'hamilton']",
         "Thu May 14 02:58:23 UTC 2009",
         "scottabel",
         "4",
         "\"booz allen\""
        ],
        [
         "29",
         "['current', 'use', 'nikon', 'd90', 'love', 'much', 'canon', '40d/50d', 'chose', 'd90', 'video', 'feature', 'mistake']",
         "Thu May 14 05:24:50 UTC 2009",
         "JustMe_D",
         "4",
         "40d"
        ],
        [
         "30",
         "['need', 'suggestions', 'good', 'ir', 'filter', 'canon', '40d', 'got', 'some?', 'pls', 'dm']",
         "Thu May 14 05:25:04 UTC 2009",
         "hiteshbagai",
         "2",
         "40d"
        ],
        [
         "31",
         "['checked', 'google', 'business', 'blip', 'shows', 'second', 'entry!', 'huh', 'good', 'ba', '?']",
         "Sat May 16 16:18:36 UTC 2009",
         "Annimallover",
         "2",
         "google"
        ],
        [
         "32",
         "['google', 'always', 'good', 'place', 'look', 'mentioned', 'worked', 'mustang', 'w/', 'dad']",
         "Sat May 16 16:19:04 UTC 2009",
         "J_Holl",
         "4",
         "google"
        ],
        [
         "33",
         "['played', 'android', 'google', 'phone', 'slide', 'screen', 'scares', 'would', 'break', 'fucker', 'fast', 'still', 'prefer', 'iphone']",
         "Sat May 16 16:19:24 UTC 2009",
         "vamsmack",
         "0",
         "google"
        ],
        [
         "34",
         "['us', 'planning', 'resume', 'military', 'tribunals', 'guantanamo', 'bay', 'time', 'trial', 'aig', 'execs', 'chrysler', 'debt', 'holders']",
         "Sat May 16 16:25:41 UTC 2009",
         "schroncd",
         "0",
         "aig"
        ],
        [
         "35",
         "['omg', 'bored', '&', 'tattoooos', 'itchy!!', 'help!', 'aha', ':smiling_face_with_smiling_eyes:']",
         "Sat May 16 22:42:07 UTC 2009",
         "MarissaLeeD",
         "0",
         "itchy"
        ],
        [
         "36",
         "['itchy', 'miserable!']",
         "Sat May 16 22:42:25 UTC 2009",
         "robloposky",
         "0",
         "itchy"
        ],
        [
         "37",
         "['itchy', 'maybe', 'later', 'lol']",
         "Sat May 16 22:42:44 UTC 2009",
         "EdwinLValencia",
         "0",
         "itchy"
        ],
        [
         "38",
         "['rt', 'love', 'nerdy', 'stanford', 'human', 'biology', 'videos', 'makes', 'miss', 'school']",
         "Sat May 16 23:48:15 UTC 2009",
         "imusicmash",
         "4",
         "stanford"
        ],
        [
         "39",
         "['bit', 'crazy', 'steep', 'learning', 'curve', 'lyx', 'really', 'good', 'long', 'docs', 'anything', 'shorter', 'would', 'insane']",
         "Sat May 16 23:58:34 UTC 2009",
         "drewloewe",
         "4",
         "lyx"
        ],
        [
         "40",
         "['listening', 'pyt', 'danny', 'gokey', ':red_heart:', ':red_heart:', ':red_heart:', 'aww', 'amazing', ':red_heart:', 'much', ':smiling_face_with_smiling_eyes:']",
         "Sun May 17 15:05:03 UTC 2009",
         "VickyTigger",
         "4",
         "Danny Gokey"
        ],
        [
         "41",
         "['going', 'sleep', 'bike', 'ride:smiling_face_with_smiling_eyes:']",
         "Sun May 17 17:27:45 UTC 2009",
         "babblyabbie",
         "4",
         "sleep"
        ],
        [
         "42",
         "['cannot', 'sleep', 'tooth', 'aching']",
         "Sun May 17 17:27:49 UTC 2009",
         "kisjoaquin",
         "0",
         "sleep"
        ],
        [
         "43",
         "['blah', 'blah', 'blah', 'old', 'old', 'plans', 'today', 'going', 'back', 'sleep', 'guess']",
         "Sun May 17 17:28:02 UTC 2009",
         "Whacktackular",
         "0",
         "sleep"
        ],
        [
         "44",
         "['glad', 'bay', 'breakers', 'today', '1000', 'freaking', 'degrees', 'san', 'francisco', 'wtf']",
         "Sun May 17 17:29:50 UTC 2009",
         "Adrigonzo",
         "0",
         "san francisco"
        ],
        [
         "45",
         "['san', 'francisco', 'bay', 'breakers']",
         "Sun May 17 17:30:19 UTC 2009",
         "sulu34",
         "2",
         "san francisco"
        ],
        [
         "46",
         "['landed', 'san', 'francisco']",
         "Sun May 17 17:30:23 UTC 2009",
         "schuyler",
         "2",
         "san francisco"
        ],
        [
         "47",
         "['san', 'francisco', 'today', 'suggestions?']",
         "Sun May 17 17:30:56 UTC 2009",
         "MattBragoni",
         "2",
         "san francisco"
        ],
        [
         "48",
         "['?obama', 'administration', 'must', 'stop', 'bonuses', 'aig', 'ponzi', 'schemers']",
         "Sun May 17 17:32:00 UTC 2009",
         "KennyTRoland",
         "0",
         "aig"
        ],
        [
         "49",
         "['started', 'think', 'citi', 'really', 'deep', 's&^t', 'going', 'survive', 'turmoil', 'going', 'next', 'aig?']",
         "Sun May 17 17:32:30 UTC 2009",
         "aMild",
         "0",
         "aig"
        ]
       ],
       "shape": {
        "columns": 5,
        "rows": 498
       }
      },
      "text/html": [
       "<div>\n",
       "<style scoped>\n",
       "    .dataframe tbody tr th:only-of-type {\n",
       "        vertical-align: middle;\n",
       "    }\n",
       "\n",
       "    .dataframe tbody tr th {\n",
       "        vertical-align: top;\n",
       "    }\n",
       "\n",
       "    .dataframe thead th {\n",
       "        text-align: right;\n",
       "    }\n",
       "</style>\n",
       "<table border=\"1\" class=\"dataframe\">\n",
       "  <thead>\n",
       "    <tr style=\"text-align: right;\">\n",
       "      <th></th>\n",
       "      <th>text</th>\n",
       "      <th>date</th>\n",
       "      <th>user</th>\n",
       "      <th>sentiment</th>\n",
       "      <th>query</th>\n",
       "    </tr>\n",
       "  </thead>\n",
       "  <tbody>\n",
       "    <tr>\n",
       "      <th>0</th>\n",
       "      <td>[loooooooovvvvvveee, kindle2, dx, cool, 2, fan...</td>\n",
       "      <td>Mon May 11 03:17:40 UTC 2009</td>\n",
       "      <td>tpryan</td>\n",
       "      <td>4</td>\n",
       "      <td>kindle2</td>\n",
       "    </tr>\n",
       "    <tr>\n",
       "      <th>1</th>\n",
       "      <td>[reading, kindle2, love, lee, childs, good, read]</td>\n",
       "      <td>Mon May 11 03:18:03 UTC 2009</td>\n",
       "      <td>vcu451</td>\n",
       "      <td>4</td>\n",
       "      <td>kindle2</td>\n",
       "    </tr>\n",
       "    <tr>\n",
       "      <th>2</th>\n",
       "      <td>[ok, first, assesment, #kindle2, fucking, rock...</td>\n",
       "      <td>Mon May 11 03:18:54 UTC 2009</td>\n",
       "      <td>chadfu</td>\n",
       "      <td>4</td>\n",
       "      <td>kindle2</td>\n",
       "    </tr>\n",
       "    <tr>\n",
       "      <th>3</th>\n",
       "      <td>[love, kindle2, mine, months, never, looked, b...</td>\n",
       "      <td>Mon May 11 03:19:04 UTC 2009</td>\n",
       "      <td>SIX15</td>\n",
       "      <td>4</td>\n",
       "      <td>kindle2</td>\n",
       "    </tr>\n",
       "    <tr>\n",
       "      <th>4</th>\n",
       "      <td>[fair, enough, kindle2, think, perfect, :smili...</td>\n",
       "      <td>Mon May 11 03:21:41 UTC 2009</td>\n",
       "      <td>yamarama</td>\n",
       "      <td>4</td>\n",
       "      <td>kindle2</td>\n",
       "    </tr>\n",
       "    <tr>\n",
       "      <th>...</th>\n",
       "      <td>...</td>\n",
       "      <td>...</td>\n",
       "      <td>...</td>\n",
       "      <td>...</td>\n",
       "      <td>...</td>\n",
       "    </tr>\n",
       "    <tr>\n",
       "      <th>493</th>\n",
       "      <td>[ask, programming:, latex, indesign?:, submitt...</td>\n",
       "      <td>Sun Jun 14 04:31:43 UTC 2009</td>\n",
       "      <td>proggit</td>\n",
       "      <td>2</td>\n",
       "      <td>latex</td>\n",
       "    </tr>\n",
       "    <tr>\n",
       "      <th>494</th>\n",
       "      <td>[note, hate, word, hate, pages, hate, latex, s...</td>\n",
       "      <td>Sun Jun 14 04:32:17 UTC 2009</td>\n",
       "      <td>sam33r</td>\n",
       "      <td>0</td>\n",
       "      <td>latex</td>\n",
       "    </tr>\n",
       "    <tr>\n",
       "      <th>495</th>\n",
       "      <td>[ahhh, back, *real*, text, editing, environmen...</td>\n",
       "      <td>Sun Jun 14 04:36:34 UTC 2009</td>\n",
       "      <td>iamtheonlyjosie</td>\n",
       "      <td>4</td>\n",
       "      <td>latex</td>\n",
       "    </tr>\n",
       "    <tr>\n",
       "      <th>496</th>\n",
       "      <td>[trouble, iran, see, hmm, iran, iran, far, awa...</td>\n",
       "      <td>Sun Jun 14 21:36:07 UTC 2009</td>\n",
       "      <td>plutopup7</td>\n",
       "      <td>0</td>\n",
       "      <td>iran</td>\n",
       "    </tr>\n",
       "    <tr>\n",
       "      <th>497</th>\n",
       "      <td>[reading, tweets, coming, iran, whole, thing, ...</td>\n",
       "      <td>Sun Jun 14 21:36:17 UTC 2009</td>\n",
       "      <td>captain_pete</td>\n",
       "      <td>0</td>\n",
       "      <td>iran</td>\n",
       "    </tr>\n",
       "  </tbody>\n",
       "</table>\n",
       "<p>498 rows × 5 columns</p>\n",
       "</div>"
      ],
      "text/plain": [
       "                                                  text  \\\n",
       "0    [loooooooovvvvvveee, kindle2, dx, cool, 2, fan...   \n",
       "1    [reading, kindle2, love, lee, childs, good, read]   \n",
       "2    [ok, first, assesment, #kindle2, fucking, rock...   \n",
       "3    [love, kindle2, mine, months, never, looked, b...   \n",
       "4    [fair, enough, kindle2, think, perfect, :smili...   \n",
       "..                                                 ...   \n",
       "493  [ask, programming:, latex, indesign?:, submitt...   \n",
       "494  [note, hate, word, hate, pages, hate, latex, s...   \n",
       "495  [ahhh, back, *real*, text, editing, environmen...   \n",
       "496  [trouble, iran, see, hmm, iran, iran, far, awa...   \n",
       "497  [reading, tweets, coming, iran, whole, thing, ...   \n",
       "\n",
       "                             date             user  sentiment    query  \n",
       "0    Mon May 11 03:17:40 UTC 2009           tpryan          4  kindle2  \n",
       "1    Mon May 11 03:18:03 UTC 2009           vcu451          4  kindle2  \n",
       "2    Mon May 11 03:18:54 UTC 2009           chadfu          4  kindle2  \n",
       "3    Mon May 11 03:19:04 UTC 2009            SIX15          4  kindle2  \n",
       "4    Mon May 11 03:21:41 UTC 2009         yamarama          4  kindle2  \n",
       "..                            ...              ...        ...      ...  \n",
       "493  Sun Jun 14 04:31:43 UTC 2009          proggit          2    latex  \n",
       "494  Sun Jun 14 04:32:17 UTC 2009           sam33r          0    latex  \n",
       "495  Sun Jun 14 04:36:34 UTC 2009  iamtheonlyjosie          4    latex  \n",
       "496  Sun Jun 14 21:36:07 UTC 2009        plutopup7          0     iran  \n",
       "497  Sun Jun 14 21:36:17 UTC 2009     captain_pete          0     iran  \n",
       "\n",
       "[498 rows x 5 columns]"
      ]
     },
     "execution_count": 44,
     "metadata": {},
     "output_type": "execute_result"
    }
   ],
   "source": [
    "df_test"
   ]
  }
 ],
 "metadata": {
  "kernelspec": {
   "display_name": "myenv",
   "language": "python",
   "name": "python3"
  },
  "language_info": {
   "codemirror_mode": {
    "name": "ipython",
    "version": 3
   },
   "file_extension": ".py",
   "mimetype": "text/x-python",
   "name": "python",
   "nbconvert_exporter": "python",
   "pygments_lexer": "ipython3",
   "version": "3.11.12"
  }
 },
 "nbformat": 4,
 "nbformat_minor": 5
}
